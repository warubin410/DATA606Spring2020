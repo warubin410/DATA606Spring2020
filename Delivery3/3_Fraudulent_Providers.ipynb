{
 "cells": [
  {
   "cell_type": "markdown",
   "metadata": {},
   "source": [
    "# Fraudulent Provider Dataset Construction (PART 3)\n",
    "## STEP 1\n",
    "* Resolve Any Matching Issues and Map Identified Providers to NPI\n",
    "* Create Fraudulent Provider Listing"
   ]
  },
  {
   "cell_type": "code",
   "execution_count": 2,
   "metadata": {},
   "outputs": [],
   "source": [
    "# Import Pyhon libraries\n",
    "import os\n",
    "import numpy as np\n",
    "import pandas as pd\n",
    "import matplotlib.pyplot as plt\n",
    "import datetime as dt\n",
    "import json\n",
    "from easydict import EasyDict as edict\n",
    "import ast"
   ]
  },
  {
   "cell_type": "code",
   "execution_count": 3,
   "metadata": {},
   "outputs": [
    {
     "name": "stdout",
     "output_type": "stream",
     "text": [
      "<class 'pandas.core.frame.DataFrame'>\n",
      "RangeIndex: 856 entries, 0 to 855\n",
      "Data columns (total 2 columns):\n",
      " #   Column        Non-Null Count  Dtype \n",
      "---  ------        --------------  ----- \n",
      " 0   result_count  856 non-null    int64 \n",
      " 1   results       856 non-null    object\n",
      "dtypes: int64(1), object(1)\n",
      "memory usage: 13.5+ KB\n"
     ]
    }
   ],
   "source": [
    "# Load NPPES Results \n",
    "df_nppes_results = pd.read_csv('nppes_results.csv')\n",
    "df_nppes_results.info()"
   ]
  },
  {
   "cell_type": "code",
   "execution_count": 4,
   "metadata": {},
   "outputs": [
    {
     "data": {
      "text/plain": [
       "(856, 2)"
      ]
     },
     "execution_count": 4,
     "metadata": {},
     "output_type": "execute_result"
    }
   ],
   "source": [
    "df_nppes_results.shape"
   ]
  },
  {
   "cell_type": "code",
   "execution_count": 5,
   "metadata": {},
   "outputs": [
    {
     "data": {
      "text/html": [
       "<div>\n",
       "<style scoped>\n",
       "    .dataframe tbody tr th:only-of-type {\n",
       "        vertical-align: middle;\n",
       "    }\n",
       "\n",
       "    .dataframe tbody tr th {\n",
       "        vertical-align: top;\n",
       "    }\n",
       "\n",
       "    .dataframe thead th {\n",
       "        text-align: right;\n",
       "    }\n",
       "</style>\n",
       "<table border=\"1\" class=\"dataframe\">\n",
       "  <thead>\n",
       "    <tr style=\"text-align: right;\">\n",
       "      <th></th>\n",
       "      <th>result_count</th>\n",
       "      <th>results</th>\n",
       "    </tr>\n",
       "  </thead>\n",
       "  <tbody>\n",
       "    <tr>\n",
       "      <th>0</th>\n",
       "      <td>1</td>\n",
       "      <td>{'enumeration_type': 'NPI-1', 'number': 117453...</td>\n",
       "    </tr>\n",
       "    <tr>\n",
       "      <th>1</th>\n",
       "      <td>1</td>\n",
       "      <td>{'enumeration_type': 'NPI-1', 'number': 100316...</td>\n",
       "    </tr>\n",
       "    <tr>\n",
       "      <th>2</th>\n",
       "      <td>1</td>\n",
       "      <td>{'enumeration_type': 'NPI-1', 'number': 108317...</td>\n",
       "    </tr>\n",
       "    <tr>\n",
       "      <th>3</th>\n",
       "      <td>1</td>\n",
       "      <td>{'enumeration_type': 'NPI-1', 'number': 100345...</td>\n",
       "    </tr>\n",
       "    <tr>\n",
       "      <th>4</th>\n",
       "      <td>1</td>\n",
       "      <td>{'enumeration_type': 'NPI-1', 'number': 116483...</td>\n",
       "    </tr>\n",
       "  </tbody>\n",
       "</table>\n",
       "</div>"
      ],
      "text/plain": [
       "   result_count                                            results\n",
       "0             1  {'enumeration_type': 'NPI-1', 'number': 117453...\n",
       "1             1  {'enumeration_type': 'NPI-1', 'number': 100316...\n",
       "2             1  {'enumeration_type': 'NPI-1', 'number': 108317...\n",
       "3             1  {'enumeration_type': 'NPI-1', 'number': 100345...\n",
       "4             1  {'enumeration_type': 'NPI-1', 'number': 116483..."
      ]
     },
     "execution_count": 5,
     "metadata": {},
     "output_type": "execute_result"
    }
   ],
   "source": [
    "df_nppes_results.head(5)"
   ]
  },
  {
   "cell_type": "code",
   "execution_count": 11,
   "metadata": {},
   "outputs": [
    {
     "data": {
      "text/plain": [
       "Text(0, 0.5, 'Record Count')"
      ]
     },
     "execution_count": 11,
     "metadata": {},
     "output_type": "execute_result"
    },
    {
     "data": {
      "image/png": "[encoded data removed]",
      "text/plain": [
       "<Figure size 720x576 with 1 Axes>"
      ]
     },
     "metadata": {
      "needs_background": "light"
     },
     "output_type": "display_data"
    }
   ],
   "source": [
    "# Histogram of NPPES matching results \n",
    "fig, ax = plt.subplots(figsize=(10,8))\n",
    "ax.hist(df_nppes_results['result_count'], bins=10)\n",
    "ax.set_xticks(range(1,10,1))\n",
    "ax.set_title('NPPES Matching Results Histogram', fontsize=14)\n",
    "ax.set_xlabel('NPPES Matches', fontsize=14)\n",
    "ax.set_ylabel('Record Count', fontsize=14)"
   ]
  },
  {
   "cell_type": "code",
   "execution_count": 12,
   "metadata": {},
   "outputs": [
    {
     "data": {
      "text/html": [
       "<div>\n",
       "<style scoped>\n",
       "    .dataframe tbody tr th:only-of-type {\n",
       "        vertical-align: middle;\n",
       "    }\n",
       "\n",
       "    .dataframe tbody tr th {\n",
       "        vertical-align: top;\n",
       "    }\n",
       "\n",
       "    .dataframe thead th {\n",
       "        text-align: right;\n",
       "    }\n",
       "</style>\n",
       "<table border=\"1\" class=\"dataframe\">\n",
       "  <thead>\n",
       "    <tr style=\"text-align: right;\">\n",
       "      <th></th>\n",
       "      <th>index</th>\n",
       "      <th>result_count</th>\n",
       "      <th>results</th>\n",
       "    </tr>\n",
       "  </thead>\n",
       "  <tbody>\n",
       "    <tr>\n",
       "      <th>0</th>\n",
       "      <td>0</td>\n",
       "      <td>1</td>\n",
       "      <td>{'enumeration_type': 'NPI-1', 'number': 117453...</td>\n",
       "    </tr>\n",
       "    <tr>\n",
       "      <th>1</th>\n",
       "      <td>1</td>\n",
       "      <td>1</td>\n",
       "      <td>{'enumeration_type': 'NPI-1', 'number': 100316...</td>\n",
       "    </tr>\n",
       "    <tr>\n",
       "      <th>2</th>\n",
       "      <td>2</td>\n",
       "      <td>1</td>\n",
       "      <td>{'enumeration_type': 'NPI-1', 'number': 108317...</td>\n",
       "    </tr>\n",
       "    <tr>\n",
       "      <th>3</th>\n",
       "      <td>3</td>\n",
       "      <td>1</td>\n",
       "      <td>{'enumeration_type': 'NPI-1', 'number': 100345...</td>\n",
       "    </tr>\n",
       "    <tr>\n",
       "      <th>4</th>\n",
       "      <td>4</td>\n",
       "      <td>1</td>\n",
       "      <td>{'enumeration_type': 'NPI-1', 'number': 116483...</td>\n",
       "    </tr>\n",
       "    <tr>\n",
       "      <th>...</th>\n",
       "      <td>...</td>\n",
       "      <td>...</td>\n",
       "      <td>...</td>\n",
       "    </tr>\n",
       "    <tr>\n",
       "      <th>255</th>\n",
       "      <td>842</td>\n",
       "      <td>1</td>\n",
       "      <td>{'enumeration_type': 'NPI-1', 'number': 132638...</td>\n",
       "    </tr>\n",
       "    <tr>\n",
       "      <th>256</th>\n",
       "      <td>843</td>\n",
       "      <td>1</td>\n",
       "      <td>{'enumeration_type': 'NPI-1', 'number': 121539...</td>\n",
       "    </tr>\n",
       "    <tr>\n",
       "      <th>257</th>\n",
       "      <td>846</td>\n",
       "      <td>1</td>\n",
       "      <td>{'enumeration_type': 'NPI-1', 'number': 131650...</td>\n",
       "    </tr>\n",
       "    <tr>\n",
       "      <th>258</th>\n",
       "      <td>847</td>\n",
       "      <td>1</td>\n",
       "      <td>{'enumeration_type': 'NPI-1', 'number': 131650...</td>\n",
       "    </tr>\n",
       "    <tr>\n",
       "      <th>259</th>\n",
       "      <td>855</td>\n",
       "      <td>1</td>\n",
       "      <td>{'enumeration_type': 'NPI-1', 'number': 117491...</td>\n",
       "    </tr>\n",
       "  </tbody>\n",
       "</table>\n",
       "<p>260 rows × 3 columns</p>\n",
       "</div>"
      ],
      "text/plain": [
       "     index  result_count                                            results\n",
       "0        0             1  {'enumeration_type': 'NPI-1', 'number': 117453...\n",
       "1        1             1  {'enumeration_type': 'NPI-1', 'number': 100316...\n",
       "2        2             1  {'enumeration_type': 'NPI-1', 'number': 108317...\n",
       "3        3             1  {'enumeration_type': 'NPI-1', 'number': 100345...\n",
       "4        4             1  {'enumeration_type': 'NPI-1', 'number': 116483...\n",
       "..     ...           ...                                                ...\n",
       "255    842             1  {'enumeration_type': 'NPI-1', 'number': 132638...\n",
       "256    843             1  {'enumeration_type': 'NPI-1', 'number': 121539...\n",
       "257    846             1  {'enumeration_type': 'NPI-1', 'number': 131650...\n",
       "258    847             1  {'enumeration_type': 'NPI-1', 'number': 131650...\n",
       "259    855             1  {'enumeration_type': 'NPI-1', 'number': 117491...\n",
       "\n",
       "[260 rows x 3 columns]"
      ]
     },
     "execution_count": 12,
     "metadata": {},
     "output_type": "execute_result"
    }
   ],
   "source": [
    "# Filter NPPES results for direct matches only\n",
    "# NOTE: To be removed in Part 4 and NPI resolution will be improved \n",
    "df_hits = df_nppes_results.loc[df_nppes_results['result_count'] == 1].reset_index()\n",
    "df_hits"
   ]
  },
  {
   "cell_type": "code",
   "execution_count": 19,
   "metadata": {},
   "outputs": [
    {
     "data": {
      "text/plain": [
       "0      1174533772\n",
       "1      1003165838\n",
       "2      1083172589\n",
       "3      1003455163\n",
       "4      1164837811\n",
       "          ...    \n",
       "255    1326380908\n",
       "256    1215398037\n",
       "257    1316504640\n",
       "258    1316504640\n",
       "259    1174919948\n",
       "Name: fraudulent_npi, Length: 260, dtype: object"
      ]
     },
     "execution_count": 19,
     "metadata": {},
     "output_type": "execute_result"
    }
   ],
   "source": [
    "# Retrieve NPI from stored JSON output of NPPES API Call\n",
    "nppes_output = df_hits.to_dict('records')\n",
    "\n",
    "df_identified_provider = pd.DataFrame()\n",
    "\n",
    "for i in nppes_output:\n",
    "    api_results = i.get(\"results\")\n",
    "    my_dict = ast.literal_eval(api_results)\n",
    "    \n",
    "    df_identified_provider = df_identified_provider.append({'fraudulent_npi': str(my_dict.get('number'))}, ignore_index=True)\n",
    "    \n",
    "df_identified_provider['fraudulent_npi']"
   ]
  },
  {
   "cell_type": "code",
   "execution_count": 22,
   "metadata": {},
   "outputs": [],
   "source": [
    "# Output file with fraudulent NPIs\n",
    "df_identified_provider.to_csv('fraudulent_npi.csv', index=False)"
   ]
  }
 ],
 "metadata": {
  "kernelspec": {
   "display_name": "Python 3",
   "language": "python",
   "name": "python3"
  },
  "language_info": {
   "codemirror_mode": {
    "name": "ipython",
    "version": 3
   },
   "file_extension": ".py",
   "mimetype": "text/x-python",
   "name": "python",
   "nbconvert_exporter": "python",
   "pygments_lexer": "ipython3",
   "version": "3.7.6"
  }
 },
 "nbformat": 4,
 "nbformat_minor": 4
}
