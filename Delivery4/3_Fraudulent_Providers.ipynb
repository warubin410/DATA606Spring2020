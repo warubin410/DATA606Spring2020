{
 "cells": [
  {
   "cell_type": "markdown",
   "metadata": {},
   "source": [
    "# Fraudulent Provider Dataset Construction (PART 3)\n",
    "## STEP 1\n",
    "* Resolve Any Matching Issues and Map Identified Providers to NPI\n",
    "* Create Fraudulent Provider Listing"
   ]
  },
  {
   "cell_type": "code",
   "execution_count": 1,
   "metadata": {},
   "outputs": [],
   "source": [
    "# Import Pyhon libraries\n",
    "import os\n",
    "import numpy as np\n",
    "import pandas as pd\n",
    "import matplotlib.pyplot as plt\n",
    "import datetime as dt\n",
    "import json\n",
    "from easydict import EasyDict as edict\n",
    "import ast"
   ]
  },
  {
   "cell_type": "code",
   "execution_count": 2,
   "metadata": {},
   "outputs": [
    {
     "name": "stdout",
     "output_type": "stream",
     "text": [
      "<class 'pandas.core.frame.DataFrame'>\n",
      "RangeIndex: 52 entries, 0 to 51\n",
      "Data columns (total 4 columns):\n",
      " #   Column     Non-Null Count  Dtype  \n",
      "---  ------     --------------  -----  \n",
      " 0   state      52 non-null     object \n",
      " 1   latitude   52 non-null     float64\n",
      " 2   longitude  52 non-null     float64\n",
      " 3   name       52 non-null     object \n",
      "dtypes: float64(2), object(2)\n",
      "memory usage: 1.8+ KB\n"
     ]
    }
   ],
   "source": [
    "# Load State Abbreviations \n",
    "df_state_abbrev = pd.read_csv('state_abbrev.csv')\n",
    "df_state_abbrev.info()"
   ]
  },
  {
   "cell_type": "code",
   "execution_count": 3,
   "metadata": {},
   "outputs": [
    {
     "data": {
      "text/plain": [
       "32      New Mexico\n",
       "15         Indiana\n",
       "10         Georgia\n",
       "28    North Dakota\n",
       "8         Delaware\n",
       "Name: name, dtype: object"
      ]
     },
     "execution_count": 3,
     "metadata": {},
     "output_type": "execute_result"
    }
   ],
   "source": [
    "df_state_abbrev['name'].sample(5)"
   ]
  },
  {
   "cell_type": "code",
   "execution_count": 4,
   "metadata": {},
   "outputs": [
    {
     "name": "stdout",
     "output_type": "stream",
     "text": [
      "['Alaska', 'Alabama', 'Arkansas', 'Arizona', 'California', 'Colorado', 'Connecticut', 'District of Columbia', 'Delaware', 'Florida', 'Georgia', 'Hawaii', 'Iowa', 'Idaho', 'Illinois', 'Indiana', 'Kansas', 'Kentucky', 'Louisiana', 'Massachusetts', 'Maryland', 'Maine', 'Michigan', 'Minnesota', 'Missouri', 'Mississippi', 'Montana', 'North Carolina', 'North Dakota', 'Nebraska', 'New Hampshire', 'New Jersey', 'New Mexico', 'Nevada', 'New York', 'Ohio', 'Oklahoma', 'Oregon', 'Pennsylvania', 'Puerto Rico', 'Rhode Island', 'South Carolina', 'South Dakota', 'Tennessee', 'Texas', 'Utah', 'Virginia', 'Vermont', 'Washington', 'Wisconsin', 'West Virginia', 'Wyoming']\n"
     ]
    }
   ],
   "source": [
    "# Create listing of state names\n",
    "state_names = df_state_abbrev['name'].to_list()\n",
    "print (state_names)"
   ]
  },
  {
   "cell_type": "code",
   "execution_count": 5,
   "metadata": {},
   "outputs": [
    {
     "name": "stdout",
     "output_type": "stream",
     "text": [
      "['AK', 'AL', 'AR', 'AZ', 'CA', 'CO', 'CT', 'DC', 'DE', 'FL', 'GA', 'HI', 'IA', 'ID', 'IL', 'IN', 'KS', 'KY', 'LA', 'MA', 'MD', 'ME', 'MI', 'MN', 'MO', 'MS', 'MT', 'NC', 'ND', 'NE', 'NH', 'NJ', 'NM', 'NV', 'NY', 'OH', 'OK', 'OR', 'PA', 'PR', 'RI', 'SC', 'SD', 'TN', 'TX', 'UT', 'VA', 'VT', 'WA', 'WI', 'WV', 'WY']\n"
     ]
    }
   ],
   "source": [
    "# Create listing of state codes / abbreviations\n",
    "state_codes = df_state_abbrev['state'].to_list()\n",
    "print (state_codes)"
   ]
  },
  {
   "cell_type": "markdown",
   "metadata": {},
   "source": [
    "### NPPES Results Clean-up and Analysis"
   ]
  },
  {
   "cell_type": "code",
   "execution_count": 6,
   "metadata": {},
   "outputs": [
    {
     "name": "stdout",
     "output_type": "stream",
     "text": [
      "<class 'pandas.core.frame.DataFrame'>\n",
      "RangeIndex: 860 entries, 0 to 859\n",
      "Data columns (total 4 columns):\n",
      " #   Column        Non-Null Count  Dtype \n",
      "---  ------        --------------  ----- \n",
      " 0   result_count  860 non-null    int64 \n",
      " 1   results       860 non-null    object\n",
      " 2   release_date  860 non-null    object\n",
      " 3   release_url   860 non-null    object\n",
      "dtypes: int64(1), object(3)\n",
      "memory usage: 27.0+ KB\n"
     ]
    }
   ],
   "source": [
    "# Load NPPES Results \n",
    "df_nppes_results = pd.read_csv('nppes_results.csv')\n",
    "df_nppes_results.info()"
   ]
  },
  {
   "cell_type": "code",
   "execution_count": 7,
   "metadata": {},
   "outputs": [
    {
     "data": {
      "text/plain": [
       "(860, 4)"
      ]
     },
     "execution_count": 7,
     "metadata": {},
     "output_type": "execute_result"
    }
   ],
   "source": [
    "df_nppes_results.shape"
   ]
  },
  {
   "cell_type": "code",
   "execution_count": 8,
   "metadata": {},
   "outputs": [
    {
     "data": {
      "text/html": [
       "<div>\n",
       "<style scoped>\n",
       "    .dataframe tbody tr th:only-of-type {\n",
       "        vertical-align: middle;\n",
       "    }\n",
       "\n",
       "    .dataframe tbody tr th {\n",
       "        vertical-align: top;\n",
       "    }\n",
       "\n",
       "    .dataframe thead th {\n",
       "        text-align: right;\n",
       "    }\n",
       "</style>\n",
       "<table border=\"1\" class=\"dataframe\">\n",
       "  <thead>\n",
       "    <tr style=\"text-align: right;\">\n",
       "      <th></th>\n",
       "      <th>result_count</th>\n",
       "      <th>results</th>\n",
       "      <th>release_date</th>\n",
       "      <th>release_url</th>\n",
       "    </tr>\n",
       "  </thead>\n",
       "  <tbody>\n",
       "    <tr>\n",
       "      <th>0</th>\n",
       "      <td>2</td>\n",
       "      <td>{'enumeration_type': 'NPI-1', 'number': 117467...</td>\n",
       "      <td>2020-03-10T00:00:00-04:00</td>\n",
       "      <td>https://www.justice.gov/opa/pr/national-compre...</td>\n",
       "    </tr>\n",
       "    <tr>\n",
       "      <th>1</th>\n",
       "      <td>2</td>\n",
       "      <td>{'enumeration_type': 'NPI-1', 'number': 174073...</td>\n",
       "      <td>2020-03-10T00:00:00-04:00</td>\n",
       "      <td>https://www.justice.gov/opa/pr/national-compre...</td>\n",
       "    </tr>\n",
       "    <tr>\n",
       "      <th>2</th>\n",
       "      <td>2</td>\n",
       "      <td>{'enumeration_type': 'NPI-1', 'number': 117467...</td>\n",
       "      <td>2020-03-10T00:00:00-04:00</td>\n",
       "      <td>https://www.justice.gov/opa/pr/national-compre...</td>\n",
       "    </tr>\n",
       "    <tr>\n",
       "      <th>3</th>\n",
       "      <td>2</td>\n",
       "      <td>{'enumeration_type': 'NPI-1', 'number': 174073...</td>\n",
       "      <td>2020-03-10T00:00:00-04:00</td>\n",
       "      <td>https://www.justice.gov/opa/pr/national-compre...</td>\n",
       "    </tr>\n",
       "    <tr>\n",
       "      <th>4</th>\n",
       "      <td>1</td>\n",
       "      <td>{'enumeration_type': 'NPI-1', 'number': 191292...</td>\n",
       "      <td>2020-02-26T00:00:00-05:00</td>\n",
       "      <td>https://www.justice.gov/opa/pr/tennessee-podia...</td>\n",
       "    </tr>\n",
       "  </tbody>\n",
       "</table>\n",
       "</div>"
      ],
      "text/plain": [
       "   result_count                                            results  \\\n",
       "0             2  {'enumeration_type': 'NPI-1', 'number': 117467...   \n",
       "1             2  {'enumeration_type': 'NPI-1', 'number': 174073...   \n",
       "2             2  {'enumeration_type': 'NPI-1', 'number': 117467...   \n",
       "3             2  {'enumeration_type': 'NPI-1', 'number': 174073...   \n",
       "4             1  {'enumeration_type': 'NPI-1', 'number': 191292...   \n",
       "\n",
       "                release_date  \\\n",
       "0  2020-03-10T00:00:00-04:00   \n",
       "1  2020-03-10T00:00:00-04:00   \n",
       "2  2020-03-10T00:00:00-04:00   \n",
       "3  2020-03-10T00:00:00-04:00   \n",
       "4  2020-02-26T00:00:00-05:00   \n",
       "\n",
       "                                         release_url  \n",
       "0  https://www.justice.gov/opa/pr/national-compre...  \n",
       "1  https://www.justice.gov/opa/pr/national-compre...  \n",
       "2  https://www.justice.gov/opa/pr/national-compre...  \n",
       "3  https://www.justice.gov/opa/pr/national-compre...  \n",
       "4  https://www.justice.gov/opa/pr/tennessee-podia...  "
      ]
     },
     "execution_count": 8,
     "metadata": {},
     "output_type": "execute_result"
    }
   ],
   "source": [
    "df_nppes_results.head(5)"
   ]
  },
  {
   "cell_type": "code",
   "execution_count": 9,
   "metadata": {},
   "outputs": [
    {
     "name": "stdout",
     "output_type": "stream",
     "text": [
      "<class 'pandas.core.frame.DataFrame'>\n",
      "RangeIndex: 21112 entries, 0 to 21111\n",
      "Data columns (total 6 columns):\n",
      " #   Column        Non-Null Count  Dtype  \n",
      "---  ------        --------------  -----  \n",
      " 0   text          21112 non-null  object \n",
      " 1   start_pos     7837 non-null   float64\n",
      " 2   end_pos       7837 non-null   float64\n",
      " 3   entity_type   21112 non-null  object \n",
      " 4   release_date  21112 non-null  object \n",
      " 5   release_url   21112 non-null  object \n",
      "dtypes: float64(2), object(4)\n",
      "memory usage: 989.8+ KB\n"
     ]
    }
   ],
   "source": [
    "# Load Entity Archive \n",
    "df_entity_archive = pd.read_csv('entity_archive.csv')\n",
    "df_entity_archive.info()"
   ]
  },
  {
   "cell_type": "code",
   "execution_count": 10,
   "metadata": {},
   "outputs": [
    {
     "data": {
      "text/plain": [
       "(21112, 6)"
      ]
     },
     "execution_count": 10,
     "metadata": {},
     "output_type": "execute_result"
    }
   ],
   "source": [
    "df_entity_archive.shape"
   ]
  },
  {
   "cell_type": "code",
   "execution_count": 11,
   "metadata": {},
   "outputs": [
    {
     "data": {
      "text/html": [
       "<div>\n",
       "<style scoped>\n",
       "    .dataframe tbody tr th:only-of-type {\n",
       "        vertical-align: middle;\n",
       "    }\n",
       "\n",
       "    .dataframe tbody tr th {\n",
       "        vertical-align: top;\n",
       "    }\n",
       "\n",
       "    .dataframe thead th {\n",
       "        text-align: right;\n",
       "    }\n",
       "</style>\n",
       "<table border=\"1\" class=\"dataframe\">\n",
       "  <thead>\n",
       "    <tr style=\"text-align: right;\">\n",
       "      <th></th>\n",
       "      <th>text</th>\n",
       "      <th>start_pos</th>\n",
       "      <th>end_pos</th>\n",
       "      <th>entity_type</th>\n",
       "      <th>release_date</th>\n",
       "      <th>release_url</th>\n",
       "    </tr>\n",
       "  </thead>\n",
       "  <tbody>\n",
       "    <tr>\n",
       "      <th>710</th>\n",
       "      <td>showed</td>\n",
       "      <td>NaN</td>\n",
       "      <td>NaN</td>\n",
       "      <td>VERB</td>\n",
       "      <td>2020-02-04T00:00:00-05:00</td>\n",
       "      <td>https://www.justice.gov/opa/pr/four-detroit-ar...</td>\n",
       "    </tr>\n",
       "    <tr>\n",
       "      <th>10055</th>\n",
       "      <td>was</td>\n",
       "      <td>NaN</td>\n",
       "      <td>NaN</td>\n",
       "      <td>VERB</td>\n",
       "      <td>2018-08-22T00:00:00-04:00</td>\n",
       "      <td>https://www.justice.gov/opa/pr/two-chinese-nat...</td>\n",
       "    </tr>\n",
       "    <tr>\n",
       "      <th>2389</th>\n",
       "      <td>charged</td>\n",
       "      <td>NaN</td>\n",
       "      <td>NaN</td>\n",
       "      <td>VERB</td>\n",
       "      <td>2019-10-17T00:00:00-04:00</td>\n",
       "      <td>https://www.justice.gov/opa/pr/kentucky-physic...</td>\n",
       "    </tr>\n",
       "    <tr>\n",
       "      <th>20927</th>\n",
       "      <td>facilitate</td>\n",
       "      <td>NaN</td>\n",
       "      <td>NaN</td>\n",
       "      <td>VERB</td>\n",
       "      <td>2015-01-07T00:00:00-05:00</td>\n",
       "      <td>https://www.justice.gov/opa/pr/fbi-arrests-def...</td>\n",
       "    </tr>\n",
       "    <tr>\n",
       "      <th>972</th>\n",
       "      <td>raised</td>\n",
       "      <td>NaN</td>\n",
       "      <td>NaN</td>\n",
       "      <td>VERB</td>\n",
       "      <td>2020-02-03T00:00:00-05:00</td>\n",
       "      <td>https://www.justice.gov/opa/pr/federal-court-o...</td>\n",
       "    </tr>\n",
       "  </tbody>\n",
       "</table>\n",
       "</div>"
      ],
      "text/plain": [
       "             text  start_pos  end_pos entity_type               release_date  \\\n",
       "710        showed        NaN      NaN        VERB  2020-02-04T00:00:00-05:00   \n",
       "10055         was        NaN      NaN        VERB  2018-08-22T00:00:00-04:00   \n",
       "2389      charged        NaN      NaN        VERB  2019-10-17T00:00:00-04:00   \n",
       "20927  facilitate        NaN      NaN        VERB  2015-01-07T00:00:00-05:00   \n",
       "972        raised        NaN      NaN        VERB  2020-02-03T00:00:00-05:00   \n",
       "\n",
       "                                             release_url  \n",
       "710    https://www.justice.gov/opa/pr/four-detroit-ar...  \n",
       "10055  https://www.justice.gov/opa/pr/two-chinese-nat...  \n",
       "2389   https://www.justice.gov/opa/pr/kentucky-physic...  \n",
       "20927  https://www.justice.gov/opa/pr/fbi-arrests-def...  \n",
       "972    https://www.justice.gov/opa/pr/federal-court-o...  "
      ]
     },
     "execution_count": 11,
     "metadata": {},
     "output_type": "execute_result"
    }
   ],
   "source": [
    "df_entity_archive.sample(5)"
   ]
  },
  {
   "cell_type": "code",
   "execution_count": 12,
   "metadata": {},
   "outputs": [
    {
     "data": {
      "text/plain": [
       "(13275, 6)"
      ]
     },
     "execution_count": 12,
     "metadata": {},
     "output_type": "execute_result"
    }
   ],
   "source": [
    "# Create dataframe of all identified verbs in all press releases\n",
    "df_verbs = df_entity_archive.loc[df_entity_archive['entity_type'] == 'VERB']\n",
    "df_verbs.shape"
   ]
  },
  {
   "cell_type": "code",
   "execution_count": 13,
   "metadata": {},
   "outputs": [
    {
     "data": {
      "text/html": [
       "<div>\n",
       "<style scoped>\n",
       "    .dataframe tbody tr th:only-of-type {\n",
       "        vertical-align: middle;\n",
       "    }\n",
       "\n",
       "    .dataframe tbody tr th {\n",
       "        vertical-align: top;\n",
       "    }\n",
       "\n",
       "    .dataframe thead th {\n",
       "        text-align: right;\n",
       "    }\n",
       "</style>\n",
       "<table border=\"1\" class=\"dataframe\">\n",
       "  <thead>\n",
       "    <tr style=\"text-align: right;\">\n",
       "      <th></th>\n",
       "      <th>text_clean</th>\n",
       "      <th>entity_type</th>\n",
       "    </tr>\n",
       "  </thead>\n",
       "  <tbody>\n",
       "    <tr>\n",
       "      <th>0</th>\n",
       "      <td>'re</td>\n",
       "      <td>1</td>\n",
       "    </tr>\n",
       "    <tr>\n",
       "      <th>1</th>\n",
       "      <td>'s</td>\n",
       "      <td>3</td>\n",
       "    </tr>\n",
       "    <tr>\n",
       "      <th>2</th>\n",
       "      <td>abandon</td>\n",
       "      <td>1</td>\n",
       "    </tr>\n",
       "    <tr>\n",
       "      <th>3</th>\n",
       "      <td>abandoned</td>\n",
       "      <td>1</td>\n",
       "    </tr>\n",
       "    <tr>\n",
       "      <th>4</th>\n",
       "      <td>abducted</td>\n",
       "      <td>2</td>\n",
       "    </tr>\n",
       "    <tr>\n",
       "      <th>...</th>\n",
       "      <td>...</td>\n",
       "      <td>...</td>\n",
       "    </tr>\n",
       "    <tr>\n",
       "      <th>1875</th>\n",
       "      <td>written</td>\n",
       "      <td>7</td>\n",
       "    </tr>\n",
       "    <tr>\n",
       "      <th>1876</th>\n",
       "      <td>wrote</td>\n",
       "      <td>28</td>\n",
       "    </tr>\n",
       "    <tr>\n",
       "      <th>1877</th>\n",
       "      <td>years</td>\n",
       "      <td>1</td>\n",
       "    </tr>\n",
       "    <tr>\n",
       "      <th>1878</th>\n",
       "      <td>yield</td>\n",
       "      <td>2</td>\n",
       "    </tr>\n",
       "    <tr>\n",
       "      <th>1879</th>\n",
       "      <td>yielding</td>\n",
       "      <td>1</td>\n",
       "    </tr>\n",
       "  </tbody>\n",
       "</table>\n",
       "<p>1880 rows × 2 columns</p>\n",
       "</div>"
      ],
      "text/plain": [
       "     text_clean  entity_type\n",
       "0           're            1\n",
       "1            's            3\n",
       "2       abandon            1\n",
       "3     abandoned            1\n",
       "4      abducted            2\n",
       "...         ...          ...\n",
       "1875    written            7\n",
       "1876      wrote           28\n",
       "1877      years            1\n",
       "1878      yield            2\n",
       "1879   yielding            1\n",
       "\n",
       "[1880 rows x 2 columns]"
      ]
     },
     "execution_count": 13,
     "metadata": {},
     "output_type": "execute_result"
    }
   ],
   "source": [
    "# Standardize string formatting and determine use counts\n",
    "df_verbs_clean = pd.DataFrame()\n",
    "df_verbs_clean = df_verbs.copy()\n",
    "df_verbs_clean['text_clean'] = df_verbs_clean['text'].apply(lambda x:x.lower())\n",
    "\n",
    "df_verbs_counts = df_verbs_clean[[\n",
    "    'text_clean',\n",
    "    'entity_type'\n",
    "]].groupby(['text_clean']).count().reset_index()\n",
    "\n",
    "df_verbs_counts"
   ]
  },
  {
   "cell_type": "code",
   "execution_count": 15,
   "metadata": {},
   "outputs": [
    {
     "data": {
      "text/html": [
       "<div>\n",
       "<style scoped>\n",
       "    .dataframe tbody tr th:only-of-type {\n",
       "        vertical-align: middle;\n",
       "    }\n",
       "\n",
       "    .dataframe tbody tr th {\n",
       "        vertical-align: top;\n",
       "    }\n",
       "\n",
       "    .dataframe thead th {\n",
       "        text-align: right;\n",
       "    }\n",
       "</style>\n",
       "<table border=\"1\" class=\"dataframe\">\n",
       "  <thead>\n",
       "    <tr style=\"text-align: right;\">\n",
       "      <th></th>\n",
       "      <th>text_clean</th>\n",
       "      <th>entity_type</th>\n",
       "    </tr>\n",
       "  </thead>\n",
       "  <tbody>\n",
       "    <tr>\n",
       "      <th>964</th>\n",
       "      <td>is</td>\n",
       "      <td>594</td>\n",
       "    </tr>\n",
       "    <tr>\n",
       "      <th>120</th>\n",
       "      <td>are</td>\n",
       "      <td>452</td>\n",
       "    </tr>\n",
       "    <tr>\n",
       "      <th>1845</th>\n",
       "      <td>was</td>\n",
       "      <td>344</td>\n",
       "    </tr>\n",
       "    <tr>\n",
       "      <th>386</th>\n",
       "      <td>controlled</td>\n",
       "      <td>292</td>\n",
       "    </tr>\n",
       "    <tr>\n",
       "      <th>1857</th>\n",
       "      <td>will</td>\n",
       "      <td>291</td>\n",
       "    </tr>\n",
       "    <tr>\n",
       "      <th>819</th>\n",
       "      <td>has</td>\n",
       "      <td>281</td>\n",
       "    </tr>\n",
       "    <tr>\n",
       "      <th>1856</th>\n",
       "      <td>were</td>\n",
       "      <td>274</td>\n",
       "    </tr>\n",
       "    <tr>\n",
       "      <th>820</th>\n",
       "      <td>have</td>\n",
       "      <td>230</td>\n",
       "    </tr>\n",
       "    <tr>\n",
       "      <th>273</th>\n",
       "      <td>charged</td>\n",
       "      <td>226</td>\n",
       "    </tr>\n",
       "    <tr>\n",
       "      <th>1505</th>\n",
       "      <td>said</td>\n",
       "      <td>196</td>\n",
       "    </tr>\n",
       "    <tr>\n",
       "      <th>178</th>\n",
       "      <td>be</td>\n",
       "      <td>180</td>\n",
       "    </tr>\n",
       "    <tr>\n",
       "      <th>895</th>\n",
       "      <td>including</td>\n",
       "      <td>169</td>\n",
       "    </tr>\n",
       "    <tr>\n",
       "      <th>190</th>\n",
       "      <td>being</td>\n",
       "      <td>108</td>\n",
       "    </tr>\n",
       "    <tr>\n",
       "      <th>537</th>\n",
       "      <td>distribute</td>\n",
       "      <td>102</td>\n",
       "    </tr>\n",
       "    <tr>\n",
       "      <th>101</th>\n",
       "      <td>announced</td>\n",
       "      <td>92</td>\n",
       "    </tr>\n",
       "    <tr>\n",
       "      <th>1869</th>\n",
       "      <td>working</td>\n",
       "      <td>90</td>\n",
       "    </tr>\n",
       "    <tr>\n",
       "      <th>184</th>\n",
       "      <td>been</td>\n",
       "      <td>89</td>\n",
       "    </tr>\n",
       "    <tr>\n",
       "      <th>1246</th>\n",
       "      <td>pleaded</td>\n",
       "      <td>86</td>\n",
       "    </tr>\n",
       "    <tr>\n",
       "      <th>1053</th>\n",
       "      <td>made</td>\n",
       "      <td>84</td>\n",
       "    </tr>\n",
       "    <tr>\n",
       "      <th>240</th>\n",
       "      <td>can</td>\n",
       "      <td>83</td>\n",
       "    </tr>\n",
       "  </tbody>\n",
       "</table>\n",
       "</div>"
      ],
      "text/plain": [
       "      text_clean  entity_type\n",
       "964           is          594\n",
       "120          are          452\n",
       "1845         was          344\n",
       "386   controlled          292\n",
       "1857        will          291\n",
       "819          has          281\n",
       "1856        were          274\n",
       "820         have          230\n",
       "273      charged          226\n",
       "1505        said          196\n",
       "178           be          180\n",
       "895    including          169\n",
       "190        being          108\n",
       "537   distribute          102\n",
       "101    announced           92\n",
       "1869     working           90\n",
       "184         been           89\n",
       "1246     pleaded           86\n",
       "1053        made           84\n",
       "240          can           83"
      ]
     },
     "execution_count": 15,
     "metadata": {},
     "output_type": "execute_result"
    }
   ],
   "source": [
    "# Sort and display more frequently found verbs\n",
    "df_verbs_counts = df_verbs_counts.sort_values(['entity_type'], ascending=False)\n",
    "df_verbs_counts.head(20)"
   ]
  },
  {
   "cell_type": "code",
   "execution_count": 16,
   "metadata": {},
   "outputs": [
    {
     "data": {
      "text/html": [
       "<div>\n",
       "<style scoped>\n",
       "    .dataframe tbody tr th:only-of-type {\n",
       "        vertical-align: middle;\n",
       "    }\n",
       "\n",
       "    .dataframe tbody tr th {\n",
       "        vertical-align: top;\n",
       "    }\n",
       "\n",
       "    .dataframe thead th {\n",
       "        text-align: right;\n",
       "    }\n",
       "</style>\n",
       "<table border=\"1\" class=\"dataframe\">\n",
       "  <thead>\n",
       "    <tr style=\"text-align: right;\">\n",
       "      <th></th>\n",
       "      <th>index</th>\n",
       "      <th>text_clean</th>\n",
       "      <th>entity_type</th>\n",
       "    </tr>\n",
       "  </thead>\n",
       "  <tbody>\n",
       "    <tr>\n",
       "      <th>0</th>\n",
       "      <td>273</td>\n",
       "      <td>charged</td>\n",
       "      <td>226</td>\n",
       "    </tr>\n",
       "    <tr>\n",
       "      <th>1</th>\n",
       "      <td>537</td>\n",
       "      <td>distribute</td>\n",
       "      <td>102</td>\n",
       "    </tr>\n",
       "    <tr>\n",
       "      <th>2</th>\n",
       "      <td>1246</td>\n",
       "      <td>pleaded</td>\n",
       "      <td>86</td>\n",
       "    </tr>\n",
       "    <tr>\n",
       "      <th>3</th>\n",
       "      <td>1313</td>\n",
       "      <td>prosecuted</td>\n",
       "      <td>76</td>\n",
       "    </tr>\n",
       "    <tr>\n",
       "      <th>4</th>\n",
       "      <td>954</td>\n",
       "      <td>investigated</td>\n",
       "      <td>73</td>\n",
       "    </tr>\n",
       "    <tr>\n",
       "      <th>5</th>\n",
       "      <td>84</td>\n",
       "      <td>alleged</td>\n",
       "      <td>70</td>\n",
       "    </tr>\n",
       "    <tr>\n",
       "      <th>6</th>\n",
       "      <td>1312</td>\n",
       "      <td>prosecute</td>\n",
       "      <td>31</td>\n",
       "    </tr>\n",
       "    <tr>\n",
       "      <th>7</th>\n",
       "      <td>538</td>\n",
       "      <td>distributed</td>\n",
       "      <td>27</td>\n",
       "    </tr>\n",
       "    <tr>\n",
       "      <th>8</th>\n",
       "      <td>953</td>\n",
       "      <td>investigate</td>\n",
       "      <td>23</td>\n",
       "    </tr>\n",
       "    <tr>\n",
       "      <th>9</th>\n",
       "      <td>360</td>\n",
       "      <td>conspired</td>\n",
       "      <td>17</td>\n",
       "    </tr>\n",
       "    <tr>\n",
       "      <th>10</th>\n",
       "      <td>1248</td>\n",
       "      <td>pled</td>\n",
       "      <td>4</td>\n",
       "    </tr>\n",
       "    <tr>\n",
       "      <th>11</th>\n",
       "      <td>124</td>\n",
       "      <td>arraigned</td>\n",
       "      <td>1</td>\n",
       "    </tr>\n",
       "    <tr>\n",
       "      <th>12</th>\n",
       "      <td>359</td>\n",
       "      <td>conspire</td>\n",
       "      <td>1</td>\n",
       "    </tr>\n",
       "  </tbody>\n",
       "</table>\n",
       "</div>"
      ],
      "text/plain": [
       "    index    text_clean  entity_type\n",
       "0     273       charged          226\n",
       "1     537    distribute          102\n",
       "2    1246       pleaded           86\n",
       "3    1313    prosecuted           76\n",
       "4     954  investigated           73\n",
       "5      84       alleged           70\n",
       "6    1312     prosecute           31\n",
       "7     538   distributed           27\n",
       "8     953   investigate           23\n",
       "9     360     conspired           17\n",
       "10   1248          pled            4\n",
       "11    124     arraigned            1\n",
       "12    359      conspire            1"
      ]
     },
     "execution_count": 16,
     "metadata": {},
     "output_type": "execute_result"
    }
   ],
   "source": [
    "# Create dataset of targeted verbs to see counts\n",
    "df_key_verbs = df_verbs_counts.loc[df_verbs_counts['text_clean'].isin(\n",
    "    ['pled', \n",
    "     'pleaded', \n",
    "     'conspire',\n",
    "     'conspired', \n",
    "     'arraigned', \n",
    "     'alleged', \n",
    "     'charged', \n",
    "     'distribute',\n",
    "     'distributed',\n",
    "     'investigated',\n",
    "     'investigate',\n",
    "     'prosecute',\n",
    "     'prosecuted']\n",
    ")].reset_index()\n",
    "\n",
    "df_key_verbs"
   ]
  },
  {
   "cell_type": "code",
   "execution_count": 17,
   "metadata": {},
   "outputs": [
    {
     "data": {
      "text/html": [
       "<div>\n",
       "<style scoped>\n",
       "    .dataframe tbody tr th:only-of-type {\n",
       "        vertical-align: middle;\n",
       "    }\n",
       "\n",
       "    .dataframe tbody tr th {\n",
       "        vertical-align: top;\n",
       "    }\n",
       "\n",
       "    .dataframe thead th {\n",
       "        text-align: right;\n",
       "    }\n",
       "</style>\n",
       "<table border=\"1\" class=\"dataframe\">\n",
       "  <thead>\n",
       "    <tr style=\"text-align: right;\">\n",
       "      <th></th>\n",
       "      <th>text</th>\n",
       "      <th>start_pos</th>\n",
       "      <th>end_pos</th>\n",
       "      <th>entity_type</th>\n",
       "      <th>release_date</th>\n",
       "      <th>release_url</th>\n",
       "      <th>text_clean</th>\n",
       "    </tr>\n",
       "  </thead>\n",
       "  <tbody>\n",
       "    <tr>\n",
       "      <th>8146</th>\n",
       "      <td>holding</td>\n",
       "      <td>NaN</td>\n",
       "      <td>NaN</td>\n",
       "      <td>VERB</td>\n",
       "      <td>2019-02-08T00:00:00-05:00</td>\n",
       "      <td>https://www.justice.gov/opa/pr/justice-departm...</td>\n",
       "      <td>holding</td>\n",
       "    </tr>\n",
       "    <tr>\n",
       "      <th>9517</th>\n",
       "      <td>should</td>\n",
       "      <td>NaN</td>\n",
       "      <td>NaN</td>\n",
       "      <td>VERB</td>\n",
       "      <td>2018-09-20T00:00:00-04:00</td>\n",
       "      <td>https://www.justice.gov/opa/pr/houston-physici...</td>\n",
       "      <td>should</td>\n",
       "    </tr>\n",
       "    <tr>\n",
       "      <th>13323</th>\n",
       "      <td>working</td>\n",
       "      <td>NaN</td>\n",
       "      <td>NaN</td>\n",
       "      <td>VERB</td>\n",
       "      <td>2018-04-10T00:00:00-04:00</td>\n",
       "      <td>https://www.justice.gov/opa/pr/acting-assistan...</td>\n",
       "      <td>working</td>\n",
       "    </tr>\n",
       "    <tr>\n",
       "      <th>18795</th>\n",
       "      <td>is</td>\n",
       "      <td>NaN</td>\n",
       "      <td>NaN</td>\n",
       "      <td>VERB</td>\n",
       "      <td>2016-11-10T00:00:00-05:00</td>\n",
       "      <td>https://www.justice.gov/opa/pr/attorney-genera...</td>\n",
       "      <td>is</td>\n",
       "    </tr>\n",
       "    <tr>\n",
       "      <th>20163</th>\n",
       "      <td>was</td>\n",
       "      <td>NaN</td>\n",
       "      <td>NaN</td>\n",
       "      <td>VERB</td>\n",
       "      <td>2016-05-12T00:00:00-04:00</td>\n",
       "      <td>https://www.justice.gov/opa/pr/kentucky-anesth...</td>\n",
       "      <td>was</td>\n",
       "    </tr>\n",
       "  </tbody>\n",
       "</table>\n",
       "</div>"
      ],
      "text/plain": [
       "          text  start_pos  end_pos entity_type               release_date  \\\n",
       "8146   holding        NaN      NaN        VERB  2019-02-08T00:00:00-05:00   \n",
       "9517    should        NaN      NaN        VERB  2018-09-20T00:00:00-04:00   \n",
       "13323  working        NaN      NaN        VERB  2018-04-10T00:00:00-04:00   \n",
       "18795       is        NaN      NaN        VERB  2016-11-10T00:00:00-05:00   \n",
       "20163      was        NaN      NaN        VERB  2016-05-12T00:00:00-04:00   \n",
       "\n",
       "                                             release_url text_clean  \n",
       "8146   https://www.justice.gov/opa/pr/justice-departm...    holding  \n",
       "9517   https://www.justice.gov/opa/pr/houston-physici...     should  \n",
       "13323  https://www.justice.gov/opa/pr/acting-assistan...    working  \n",
       "18795  https://www.justice.gov/opa/pr/attorney-genera...         is  \n",
       "20163  https://www.justice.gov/opa/pr/kentucky-anesth...        was  "
      ]
     },
     "execution_count": 17,
     "metadata": {},
     "output_type": "execute_result"
    }
   ],
   "source": [
    "df_verbs_clean.sample(5)"
   ]
  },
  {
   "cell_type": "code",
   "execution_count": 18,
   "metadata": {},
   "outputs": [
    {
     "data": {
      "text/html": [
       "<div>\n",
       "<style scoped>\n",
       "    .dataframe tbody tr th:only-of-type {\n",
       "        vertical-align: middle;\n",
       "    }\n",
       "\n",
       "    .dataframe tbody tr th {\n",
       "        vertical-align: top;\n",
       "    }\n",
       "\n",
       "    .dataframe thead th {\n",
       "        text-align: right;\n",
       "    }\n",
       "</style>\n",
       "<table border=\"1\" class=\"dataframe\">\n",
       "  <thead>\n",
       "    <tr style=\"text-align: right;\">\n",
       "      <th></th>\n",
       "      <th>index</th>\n",
       "      <th>text</th>\n",
       "      <th>start_pos</th>\n",
       "      <th>end_pos</th>\n",
       "      <th>entity_type</th>\n",
       "      <th>release_date</th>\n",
       "      <th>release_url</th>\n",
       "      <th>text_clean</th>\n",
       "    </tr>\n",
       "  </thead>\n",
       "  <tbody>\n",
       "    <tr>\n",
       "      <th>476</th>\n",
       "      <td>8419</td>\n",
       "      <td>distribute</td>\n",
       "      <td>NaN</td>\n",
       "      <td>NaN</td>\n",
       "      <td>VERB</td>\n",
       "      <td>2018-11-07T00:00:00-05:00</td>\n",
       "      <td>https://www.justice.gov/opa/pr/co-owners-miami...</td>\n",
       "      <td>distribute</td>\n",
       "    </tr>\n",
       "    <tr>\n",
       "      <th>506</th>\n",
       "      <td>9317</td>\n",
       "      <td>charged</td>\n",
       "      <td>NaN</td>\n",
       "      <td>NaN</td>\n",
       "      <td>VERB</td>\n",
       "      <td>2018-10-22T00:00:00-04:00</td>\n",
       "      <td>https://www.justice.gov/opa/pr/eight-new-orlea...</td>\n",
       "      <td>charged</td>\n",
       "    </tr>\n",
       "    <tr>\n",
       "      <th>317</th>\n",
       "      <td>4987</td>\n",
       "      <td>pleaded</td>\n",
       "      <td>NaN</td>\n",
       "      <td>NaN</td>\n",
       "      <td>VERB</td>\n",
       "      <td>2019-09-18T00:00:00-04:00</td>\n",
       "      <td>https://www.justice.gov/opa/pr/texas-health-ca...</td>\n",
       "      <td>pleaded</td>\n",
       "    </tr>\n",
       "    <tr>\n",
       "      <th>435</th>\n",
       "      <td>7460</td>\n",
       "      <td>prosecute</td>\n",
       "      <td>NaN</td>\n",
       "      <td>NaN</td>\n",
       "      <td>VERB</td>\n",
       "      <td>2019-04-17T00:00:00-04:00</td>\n",
       "      <td>https://www.justice.gov/opa/pr/appalachian-reg...</td>\n",
       "      <td>prosecute</td>\n",
       "    </tr>\n",
       "    <tr>\n",
       "      <th>716</th>\n",
       "      <td>20500</td>\n",
       "      <td>distribute</td>\n",
       "      <td>NaN</td>\n",
       "      <td>NaN</td>\n",
       "      <td>VERB</td>\n",
       "      <td>2015-07-28T00:00:00-04:00</td>\n",
       "      <td>https://www.justice.gov/opa/pr/colombian-natio...</td>\n",
       "      <td>distribute</td>\n",
       "    </tr>\n",
       "  </tbody>\n",
       "</table>\n",
       "</div>"
      ],
      "text/plain": [
       "     index        text  start_pos  end_pos entity_type  \\\n",
       "476   8419  distribute        NaN      NaN        VERB   \n",
       "506   9317     charged        NaN      NaN        VERB   \n",
       "317   4987     pleaded        NaN      NaN        VERB   \n",
       "435   7460   prosecute        NaN      NaN        VERB   \n",
       "716  20500  distribute        NaN      NaN        VERB   \n",
       "\n",
       "                  release_date  \\\n",
       "476  2018-11-07T00:00:00-05:00   \n",
       "506  2018-10-22T00:00:00-04:00   \n",
       "317  2019-09-18T00:00:00-04:00   \n",
       "435  2019-04-17T00:00:00-04:00   \n",
       "716  2015-07-28T00:00:00-04:00   \n",
       "\n",
       "                                           release_url  text_clean  \n",
       "476  https://www.justice.gov/opa/pr/co-owners-miami...  distribute  \n",
       "506  https://www.justice.gov/opa/pr/eight-new-orlea...     charged  \n",
       "317  https://www.justice.gov/opa/pr/texas-health-ca...     pleaded  \n",
       "435  https://www.justice.gov/opa/pr/appalachian-reg...   prosecute  \n",
       "716  https://www.justice.gov/opa/pr/colombian-natio...  distribute  "
      ]
     },
     "execution_count": 18,
     "metadata": {},
     "output_type": "execute_result"
    }
   ],
   "source": [
    "# Create dataset for press releases which used targeted verbs\n",
    "df_fraud_releases =  df_verbs_clean.loc[df_verbs_clean['text_clean'].isin(\n",
    "    ['pled', \n",
    "     'pleaded', \n",
    "     'conspire',\n",
    "     'conspired', \n",
    "     'arraigned', \n",
    "     'alleged', \n",
    "     'charged', \n",
    "     'distribute',\n",
    "     'distributed',\n",
    "     'investigated',\n",
    "     'investigate',\n",
    "     'prosecute',\n",
    "     'prosecuted'\n",
    "    ]\n",
    ")].reset_index()\n",
    "\n",
    "df_fraud_releases.sample(5)"
   ]
  },
  {
   "cell_type": "code",
   "execution_count": 19,
   "metadata": {},
   "outputs": [
    {
     "name": "stdout",
     "output_type": "stream",
     "text": [
      "['https://www.justice.gov/opa/pr/owner-detroit-area-health-care-clinic-sentenced-prison-drug-diversion-scheme', 'https://www.justice.gov/opa/pr/tennessee-podiatrist-pleads-guilty-unlawfully-distributing-controlled-substances', 'https://www.justice.gov/opa/pr/west-tennessee-psychiatrist-found-guilty-unlawfully-distributing-opioids', 'https://www.justice.gov/opa/pr/ohio-doctor-pleads-guilty-unlawful-distribution-opioids-0', 'https://www.justice.gov/opa/pr/federal-jury-convicts-four-defendants-operating-knoxville-area-pill-mills', 'https://www.justice.gov/opa/pr/four-detroit-area-physicians-found-guilty-health-care-fraud-charges-role-over-150-million', 'https://www.justice.gov/opa/pr/federal-court-orders-north-carolina-pharmacy-and-pharmacist-pay-600000-and-permanently-cease', 'https://www.justice.gov/opa/pr/alabama-physician-pleads-guilty-drug-distribution-charges-prescription-opioids', 'https://www.justice.gov/opa/pr/pennsylvania-doctor-pleads-guilty-unlawfully-distributing-oxycodone-his-patients', 'https://www.justice.gov/opa/pr/philadelphia-area-doctor-sentenced-12-months-prison-unlawfully-distributing-oxycodone', 'https://www.justice.gov/opa/pr/pennsylvania-doctor-pleads-guilty-fraud-and-drug-importation-charges', 'https://www.justice.gov/opa/pr/west-virginia-medical-doctor-sentenced-prison-unlawfully-distributing-opioids', 'https://www.justice.gov/opa/pr/justice-department-awards-more-333-million-fight-opioid-crisis', 'https://www.justice.gov/opa/pr/former-tennessee-medical-doctor-pleads-guilty-unlawfully-distributing-controlled-substances', 'https://www.justice.gov/opa/pr/tennessee-emergency-medical-doctor-pleads-guilty-unlawfully-distributing-controlled', 'https://www.justice.gov/opa/pr/new-jerseypennsylvania-doctor-pleads-guilty-accepting-bribes-and-kickbacks-exchange', 'https://www.justice.gov/opa/pr/owner-detroit-area-health-care-clinics-pleads-guilty-drug-diversion-scheme-0', 'https://www.justice.gov/opa/pr/tennessee-medical-doctor-and-advanced-practice-registered-nurse-charged-scheme-unlawfully', 'https://www.justice.gov/opa/pr/two-east-tennessee-doctors-plead-guilty-opioid-offenses', 'https://www.justice.gov/opa/pr/kentucky-physician-pleads-guilty-unlawfully-distributing-opioids', 'https://www.justice.gov/opa/pr/ohio-doctor-pleads-guilty-unlawful-distribution-opioids', 'https://www.justice.gov/opa/pr/federal-health-care-fraud-takedown-northeastern-us-results-charges-against-48-individuals', 'https://www.justice.gov/opa/pr/former-mexican-state-attorney-general-sentenced-20-years-prison-participation-international', 'https://www.justice.gov/opa/pr/second-appalachian-region-prescription-opioid-strikeforce-takedown-results-charges-against-13', 'https://www.justice.gov/opa/pr/texas-health-care-fraud-and-opioid-takedown-results-charges-against-58-individuals', 'https://www.justice.gov/opa/pr/houston-area-man-who-posed-physician-found-guilty-conspiring-unlawfully-prescribe-hundreds', 'https://www.justice.gov/opa/pr/louisiana-physician-s-assistant-sentenced-prison-scheme-unlawfully-distribute-controlled', 'https://www.justice.gov/opa/pr/charges-filed-against-dozens-trafficking-network-responsible-diverting-over-23-million', 'https://www.justice.gov/opa/pr/colombian-national-pleads-guilty-operating-international-fentanyl-trafficking-organization', 'https://www.justice.gov/opa/pr/justice-department-obtains-14-billion-reckitt-benckiser-group-largest-recovery-case', 'https://www.justice.gov/opa/pr/new-jerseypennsylvania-doctor-indicted-accepting-bribes-and-kickbacks-pharmaceutical-company', 'https://www.justice.gov/opa/pr/michigan-doctor-sentenced-prison-his-role-scheme-unlawfully-distribute-opioids', 'https://www.justice.gov/opa/pr/darknet-fentanyl-dealer-indicted-nationwide-undercover-operation-targeting-darknet-vendors', 'https://www.justice.gov/opa/pr/west-virginia-physician-pleads-guilty-drug-charge', 'https://www.justice.gov/opa/pr/appalachian-regional-prescription-opioid-arpo-strike-force-takedown-results-charges-against', 'https://www.justice.gov/opa/pr/philadelphia-area-doctor-pleads-guilty-unlawfully-distributing-oxycodone', 'https://www.justice.gov/opa/pr/massachusetts-man-sentenced-17-years-sex-trafficking-women-exploiting-their-opioid-addictions', 'https://www.justice.gov/opa/pr/co-owners-miami-pain-management-clinic-and-patient-recruiter-sentenced-prison-scheme', 'https://www.justice.gov/opa/pr/district-court-enters-permanent-injunction-prohibiting-ohio-doctor-prescribing-opioids', 'https://www.justice.gov/opa/pr/justice-department-s-criminal-division-creates-appalachian-regional-prescription-opioid', 'https://www.justice.gov/opa/pr/eight-new-orleans-area-defendants-plead-guilty-scheme-possess-oxycodone-fraud-six-eight-also', 'https://www.justice.gov/opa/pr/justice-department-awarding-almost-320-million-combat-opioid-crisis', 'https://www.justice.gov/opa/pr/houston-physician-and-pain-management-clinic-owner-each-sentenced-35-years-prison-running', 'https://www.justice.gov/opa/pr/co-owners-miami-pain-management-clinic-plead-guilty-conspiracy-distribute-medically', 'https://www.justice.gov/opa/pr/two-chinese-nationals-charged-operating-global-opioid-and-drug-manufacturing-conspiracy', 'https://www.justice.gov/opa/pr/justice-department-takes-first-its-kind-legal-action-reduce-opioid-over-prescription', 'https://www.justice.gov/opa/pr/operation-darkness-falls-results-arrest-one-most-prolific-dark-net-fentanyl-vendors-world', 'https://www.justice.gov/opa/pr/deputy-assistant-attorney-general-david-rybicki-justice-department-s-criminal-division', 'https://www.justice.gov/opa/pr/attorney-general-s-advisory-subcommittee-native-american-issues-meets-tulsa-oklahoma-discuss', 'https://www.justice.gov/opa/pr/michigan-physician-pleads-guilty-conspiracy-distribute-controlled-substances', 'https://www.justice.gov/opa/pr/attorney-general-jeff-sessions-announces-formation-operation-synthetic-opioid-surge-sos', 'https://www.justice.gov/opa/pr/south-florida-doctor-convicted-participating-conspiracy-illegally-dispense-opioids-and-other', 'https://www.justice.gov/opa/pr/first-nationwide-undercover-operation-targeting-darknet-vendors-results-arrests-more-35', 'https://www.justice.gov/opa/pr/health-care-ceo-and-four-physicians-charged-superseding-indictment-connection-200-million', 'https://www.justice.gov/opa/pr/dea-suspends-registration-morris-dickson-company-distributing-controlled-substances', 'https://www.justice.gov/opa/pr/five-pennsylvania-physicians-charged-unlawfully-distributing-buprenorphine-and-defrauding', 'https://www.justice.gov/opa/pr/four-additional-chinese-nationals-and-six-additional-us-residents-indicted-north-dakota', 'https://www.justice.gov/opa/pr/acting-assistant-attorney-general-john-p-cronan-delivers-remarks-international-drug', 'https://www.justice.gov/opa/pr/attorney-general-jeff-sessions-announces-results-j-code-s-first-law-enforcement-operation', 'https://www.justice.gov/opa/pr/houston-physician-and-pain-management-clinic-owner-convicted-running-pill-mill-provided', 'https://www.justice.gov/opa/pr/statement-john-c-anderson-united-states-attorney-district-new-mexico-senate-committee-indian', 'https://www.justice.gov/opa/pr/attorney-general-sessions-announces-new-prescription-interdiction-litigation-task-force', 'https://www.justice.gov/opa/pr/department-justice-announces-mary-daly-opioid-coordinator', 'https://www.justice.gov/opa/pr/attorney-general-sessions-announces-opioid-fraud-and-abuse-detection-unit', 'https://www.justice.gov/opa/pr/alphabay-largest-online-dark-market-shut-down', 'https://www.justice.gov/opa/pr/national-health-care-fraud-takedown-results-charges-against-over-412-individuals-responsible', 'https://www.justice.gov/opa/pr/miami-based-physician-pleads-guilty-role-pain-pill-diversion-and-medicare-fraud-scheme', 'https://www.justice.gov/opa/pr/pharmacy-owner-and-director-compliance-charged-defrauding-united-states-and-distributing', 'https://www.justice.gov/opa/pr/fifty-five-defendants-charged-massive-crackdown-california-heroin-methamphetamine-and', 'https://www.justice.gov/opa/pr/new-hampshire-man-indicted-sex-trafficking-minor-connection-interstate-prostitution', 'https://www.justice.gov/opa/pr/costco-wholesale-pay-1175-million-settle-allegations-lax-pharmacy-controls', 'https://www.justice.gov/opa/pr/mckesson-agrees-pay-record-150-million-settlement-failure-report-suspicious-orders', 'https://www.justice.gov/opa/pr/attorney-general-loretta-e-lynch-hosts-64th-annual-attorney-general-s-awards-ceremony', 'https://www.justice.gov/opa/pr/alabama-pill-mill-doctor-charged-illegal-prescribing-and-health-care-fraud', 'https://www.justice.gov/opa/pr/kentucky-anesthesiologist-sentenced-100-months-unlawful-distribution-controlled-substances', 'https://www.justice.gov/opa/pr/unlicensed-physician-pleads-guilty-role-detroit-based-62-million-medicare-fraud-scheme', 'https://www.justice.gov/opa/pr/us-department-justices-office-community-oriented-policing-services-awards-nearly-18-million', 'https://www.justice.gov/opa/pr/versailles-man-indicted-illegal-distribution-fentanyl-resulting-death', 'https://www.justice.gov/opa/pr/colombian-national-charged-north-dakota-operating-continuing-criminal-enterprise-canadian', 'https://www.justice.gov/opa/pr/long-term-care-pharmacy-pay-315-million-settle-lawsuit-alleging-violations-controlled', 'https://www.justice.gov/opa/pr/fbi-arrests-defendants-charged-trafficking-heroin-and-other-drugs-jefferson-county', 'https://www.justice.gov/opa/pr/united-states-files-lawsuit-against-pharmerica-corporation-violations-false-claims-act-and']\n"
     ]
    }
   ],
   "source": [
    "# Display unique press release URLs which used targeted verbs\n",
    "release_ids = df_fraud_releases['release_url'].unique()\n",
    "id_list = release_ids.tolist()\n",
    "print (id_list)"
   ]
  },
  {
   "cell_type": "code",
   "execution_count": 21,
   "metadata": {},
   "outputs": [
    {
     "data": {
      "text/plain": [
       "(851, 4)"
      ]
     },
     "execution_count": 21,
     "metadata": {},
     "output_type": "execute_result"
    }
   ],
   "source": [
    "# Create dataset of NPPES results filtered for press releases that used targeted verbs\n",
    "df_filtered = df_nppes_results.loc[df_nppes_results['release_url'].isin(id_list)]\n",
    "df_filtered.shape"
   ]
  },
  {
   "cell_type": "code",
   "execution_count": 22,
   "metadata": {},
   "outputs": [
    {
     "data": {
      "text/plain": [
       "Text(0, 0.5, 'Record Count')"
      ]
     },
     "execution_count": 22,
     "metadata": {},
     "output_type": "execute_result"
    },
    {
     "data": {
      "image/png": "[encoded data removed]",
      "text/plain": [
       "<Figure size 720x576 with 1 Axes>"
      ]
     },
     "metadata": {
      "needs_background": "light"
     },
     "output_type": "display_data"
    }
   ],
   "source": [
    "# Histogram of NPPES matching results \n",
    "fig, ax = plt.subplots(figsize=(10,8))\n",
    "ax.hist(df_filtered['result_count'], bins=10)\n",
    "ax.set_xticks(range(1,10,1))\n",
    "ax.set_title('NPPES Matching Results Histogram', fontsize=14)\n",
    "ax.set_xlabel('NPPES Matches', fontsize=14)\n",
    "ax.set_ylabel('Record Count', fontsize=14)"
   ]
  },
  {
   "cell_type": "markdown",
   "metadata": {},
   "source": [
    "### OF NOTE:\n",
    "* Nine press releases previously included were removed since did not contain language likely related to fraud cases.\n",
    "* Removed press releases likely policy based."
   ]
  },
  {
   "cell_type": "markdown",
   "metadata": {},
   "source": [
    "## Process NPPES Results and Perform NPI Resolution"
   ]
  },
  {
   "cell_type": "code",
   "execution_count": 86,
   "metadata": {},
   "outputs": [
    {
     "data": {
      "text/plain": [
       "(851, 4)"
      ]
     },
     "execution_count": 86,
     "metadata": {},
     "output_type": "execute_result"
    }
   ],
   "source": [
    "# Create dataset of relevant NPPES Results\n",
    "df_hits = df_filtered.copy()\n",
    "df_hits.shape"
   ]
  },
  {
   "cell_type": "code",
   "execution_count": 87,
   "metadata": {},
   "outputs": [],
   "source": [
    "# loop through results and save resolved NPIs to dataframe for export\n",
    "\n",
    "# Create empty dataframe for NLP results\n",
    "df_resolved_npi = pd.DataFrame(\n",
    "    columns=[\n",
    "        'npi',\n",
    "        'press_release_date',\n",
    "        'press_release_url'\n",
    "    ]\n",
    ")\n",
    "\n",
    "# Loop through all hits\n",
    "for row in df_hits.itertuples():\n",
    "\n",
    "    # Add results with only 1 NPI match into Resolved NPI Dataframe\n",
    "    if row.result_count == 1:\n",
    "        api_results = row.results\n",
    "        my_dict = ast.literal_eval(api_results)\n",
    "        df_resolved_npi = df_resolved_npi.append(\n",
    "            {\n",
    "                'npi': str(my_dict.get('number')),\n",
    "                'press_release_date': row.release_date,\n",
    "                'press_release_url': row.release_url,\n",
    "            }, \n",
    "            ignore_index=True\n",
    "        )\n",
    "\n",
    "    else:     # Results with more than one NPI returned    \n",
    "        \n",
    "        df_search = pd.DataFrame()\n",
    "    \n",
    "        # Find all GPEs in press release archive \n",
    "        df_search = df_entity_archive.loc[(df_entity_archive['release_url'] == row.release_url) & (df_entity_archive['entity_type'] == 'GPE')]\n",
    "\n",
    "        # Remove irrelevant GPE: U.S., United States, state names ...\n",
    "        df_search = df_search[df_search['text'] != 'U.S.']\n",
    "        df_search = df_search[df_search['text'] != 'the United States']\n",
    "        df_search = df_search[df_search['text'] != 'M.D.']\n",
    "        df_search = df_search[df_search['text'] != 'US']\n",
    "        df_search = df_search[df_search['text'] != 'America']\n",
    "        df_search = df_search[~df_search['text'].isin(state_names)]\n",
    "        df_search = df_search[~df_search['text'].isin(state_codes)]\n",
    "\n",
    "        # Loop through listing of likely cities and if match found, add to Resolved NPI Dataframe\n",
    "        for city in df_search.itertuples():\n",
    "\n",
    "            city_name = city.text.upper()\n",
    "\n",
    "            found = city_name in row.results\n",
    "\n",
    "            if found:\n",
    "\n",
    "                #print (row.release_url)\n",
    "                #print (city_name + ': ' + str(found))\n",
    "\n",
    "                api_results = row.results\n",
    "                my_dict = ast.literal_eval(api_results)\n",
    "                #print (str(my_dict.get('number')))\n",
    "\n",
    "                df_resolved_npi = df_resolved_npi.append(\n",
    "                    {\n",
    "                        'npi': str(my_dict.get('number')),\n",
    "                        'press_release_date': row.release_date,\n",
    "                        'press_release_url': row.release_url,\n",
    "                    }, \n",
    "                    ignore_index=True\n",
    "                )       "
   ]
  },
  {
   "cell_type": "code",
   "execution_count": 89,
   "metadata": {},
   "outputs": [
    {
     "data": {
      "text/plain": [
       "(615, 3)"
      ]
     },
     "execution_count": 89,
     "metadata": {},
     "output_type": "execute_result"
    }
   ],
   "source": [
    "df_resolved_npi.shape"
   ]
  },
  {
   "cell_type": "code",
   "execution_count": 90,
   "metadata": {},
   "outputs": [
    {
     "data": {
      "text/plain": [
       "(301, 3)"
      ]
     },
     "execution_count": 90,
     "metadata": {},
     "output_type": "execute_result"
    }
   ],
   "source": [
    "# Remove duplicate NPIs\n",
    "df_dedupe = df_resolved_npi.drop_duplicates(subset='npi')\n",
    "df_dedupe.shape"
   ]
  },
  {
   "cell_type": "code",
   "execution_count": 91,
   "metadata": {},
   "outputs": [
    {
     "data": {
      "text/html": [
       "<div>\n",
       "<style scoped>\n",
       "    .dataframe tbody tr th:only-of-type {\n",
       "        vertical-align: middle;\n",
       "    }\n",
       "\n",
       "    .dataframe tbody tr th {\n",
       "        vertical-align: top;\n",
       "    }\n",
       "\n",
       "    .dataframe thead th {\n",
       "        text-align: right;\n",
       "    }\n",
       "</style>\n",
       "<table border=\"1\" class=\"dataframe\">\n",
       "  <thead>\n",
       "    <tr style=\"text-align: right;\">\n",
       "      <th></th>\n",
       "      <th>npi</th>\n",
       "      <th>press_release_date</th>\n",
       "      <th>press_release_url</th>\n",
       "    </tr>\n",
       "  </thead>\n",
       "  <tbody>\n",
       "    <tr>\n",
       "      <th>208</th>\n",
       "      <td>1740349505</td>\n",
       "      <td>2019-08-29T00:00:00-04:00</td>\n",
       "      <td>https://www.justice.gov/opa/pr/louisiana-physi...</td>\n",
       "    </tr>\n",
       "    <tr>\n",
       "      <th>419</th>\n",
       "      <td>1174908230</td>\n",
       "      <td>2019-04-17T00:00:00-04:00</td>\n",
       "      <td>https://www.justice.gov/opa/pr/appalachian-reg...</td>\n",
       "    </tr>\n",
       "    <tr>\n",
       "      <th>565</th>\n",
       "      <td>1265407100</td>\n",
       "      <td>2017-08-02T00:00:00-04:00</td>\n",
       "      <td>https://www.justice.gov/opa/pr/attorney-genera...</td>\n",
       "    </tr>\n",
       "    <tr>\n",
       "      <th>399</th>\n",
       "      <td>1841316726</td>\n",
       "      <td>2019-08-28T00:00:00-04:00</td>\n",
       "      <td>https://www.justice.gov/opa/pr/charges-filed-a...</td>\n",
       "    </tr>\n",
       "    <tr>\n",
       "      <th>209</th>\n",
       "      <td>1891208831</td>\n",
       "      <td>2019-08-28T00:00:00-04:00</td>\n",
       "      <td>https://www.justice.gov/opa/pr/charges-filed-a...</td>\n",
       "    </tr>\n",
       "    <tr>\n",
       "      <th>507</th>\n",
       "      <td>1609808534</td>\n",
       "      <td>2018-10-25T00:00:00-04:00</td>\n",
       "      <td>https://www.justice.gov/opa/pr/justice-departm...</td>\n",
       "    </tr>\n",
       "    <tr>\n",
       "      <th>423</th>\n",
       "      <td>1396044590</td>\n",
       "      <td>2019-04-17T00:00:00-04:00</td>\n",
       "      <td>https://www.justice.gov/opa/pr/appalachian-reg...</td>\n",
       "    </tr>\n",
       "    <tr>\n",
       "      <th>445</th>\n",
       "      <td>1750587713</td>\n",
       "      <td>2019-03-13T00:00:00-04:00</td>\n",
       "      <td>https://www.justice.gov/opa/pr/philadelphia-ar...</td>\n",
       "    </tr>\n",
       "    <tr>\n",
       "      <th>174</th>\n",
       "      <td>1093839094</td>\n",
       "      <td>2019-09-18T00:00:00-04:00</td>\n",
       "      <td>https://www.justice.gov/opa/pr/texas-health-ca...</td>\n",
       "    </tr>\n",
       "    <tr>\n",
       "      <th>4</th>\n",
       "      <td>1013082890</td>\n",
       "      <td>2020-02-21T00:00:00-05:00</td>\n",
       "      <td>https://www.justice.gov/opa/pr/ohio-doctor-ple...</td>\n",
       "    </tr>\n",
       "  </tbody>\n",
       "</table>\n",
       "</div>"
      ],
      "text/plain": [
       "            npi         press_release_date  \\\n",
       "208  1740349505  2019-08-29T00:00:00-04:00   \n",
       "419  1174908230  2019-04-17T00:00:00-04:00   \n",
       "565  1265407100  2017-08-02T00:00:00-04:00   \n",
       "399  1841316726  2019-08-28T00:00:00-04:00   \n",
       "209  1891208831  2019-08-28T00:00:00-04:00   \n",
       "507  1609808534  2018-10-25T00:00:00-04:00   \n",
       "423  1396044590  2019-04-17T00:00:00-04:00   \n",
       "445  1750587713  2019-03-13T00:00:00-04:00   \n",
       "174  1093839094  2019-09-18T00:00:00-04:00   \n",
       "4    1013082890  2020-02-21T00:00:00-05:00   \n",
       "\n",
       "                                     press_release_url  \n",
       "208  https://www.justice.gov/opa/pr/louisiana-physi...  \n",
       "419  https://www.justice.gov/opa/pr/appalachian-reg...  \n",
       "565  https://www.justice.gov/opa/pr/attorney-genera...  \n",
       "399  https://www.justice.gov/opa/pr/charges-filed-a...  \n",
       "209  https://www.justice.gov/opa/pr/charges-filed-a...  \n",
       "507  https://www.justice.gov/opa/pr/justice-departm...  \n",
       "423  https://www.justice.gov/opa/pr/appalachian-reg...  \n",
       "445  https://www.justice.gov/opa/pr/philadelphia-ar...  \n",
       "174  https://www.justice.gov/opa/pr/texas-health-ca...  \n",
       "4    https://www.justice.gov/opa/pr/ohio-doctor-ple...  "
      ]
     },
     "execution_count": 91,
     "metadata": {},
     "output_type": "execute_result"
    }
   ],
   "source": [
    "df_dedupe.sample(10)"
   ]
  },
  {
   "cell_type": "code",
   "execution_count": 94,
   "metadata": {},
   "outputs": [],
   "source": [
    "# Output file with fraudulent NPIs\n",
    "df_dedupe.to_csv('fraudulent_npi.csv', index=False)"
   ]
  },
  {
   "cell_type": "markdown",
   "metadata": {},
   "source": [
    "### Backup code"
   ]
  },
  {
   "cell_type": "code",
   "execution_count": null,
   "metadata": {},
   "outputs": [],
   "source": [
    "# Filter NPPES results for direct matches only\n",
    "# NOTE: To be removed in Part 4 and NPI resolution will be improved \n",
    "df_hits = df_nppes_results.loc[df_nppes_results['result_count'] == 1].reset_index()\n",
    "df_hits"
   ]
  },
  {
   "cell_type": "code",
   "execution_count": null,
   "metadata": {},
   "outputs": [],
   "source": [
    "# Retrieve NPI from stored JSON output of NPPES API Call\n",
    "nppes_output = df_hits.to_dict('records')\n",
    "\n",
    "df_identified_provider = pd.DataFrame()\n",
    "\n",
    "for i in nppes_output:\n",
    "    api_results = i.get(\"results\")\n",
    "    my_dict = ast.literal_eval(api_results)\n",
    "    \n",
    "    df_identified_provider = df_identified_provider.append({'fraudulent_npi': str(my_dict.get('number'))}, ignore_index=True)\n",
    "    \n",
    "df_identified_provider['fraudulent_npi']"
   ]
  },
  {
   "cell_type": "code",
   "execution_count": null,
   "metadata": {},
   "outputs": [],
   "source": [
    "df_hits['index']"
   ]
  },
  {
   "cell_type": "code",
   "execution_count": null,
   "metadata": {},
   "outputs": [],
   "source": [
    "#output = df_temp['results'][13].to_dict('records')\n",
    "api_results = df_temp['results'][13]\n",
    "my_dict = ast.literal_eval(api_results)\n",
    "#print (str(my_dict.get('addresses').get('city')))\n",
    "print (str(my_dict.get('addresses')[0].get('city')))"
   ]
  }
 ],
 "metadata": {
  "kernelspec": {
   "display_name": "Python 3",
   "language": "python",
   "name": "python3"
  },
  "language_info": {
   "codemirror_mode": {
    "name": "ipython",
    "version": 3
   },
   "file_extension": ".py",
   "mimetype": "text/x-python",
   "name": "python",
   "nbconvert_exporter": "python",
   "pygments_lexer": "ipython3",
   "version": "3.7.6"
  }
 },
 "nbformat": 4,
 "nbformat_minor": 4
}
